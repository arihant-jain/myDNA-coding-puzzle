{
  "cells": [
    {
      "metadata": {
        "collapsed": true
      },
      "cell_type": "markdown",
      "source": "# myDNA Coding Puzzle\n\n## Building plate\n\nThe code below generates a plate with `Full(F)` or `Empty(E)` wells at random locations. Default plate dimensions are 5 X 5. Change the **width** and **height** values in the code below to get a different size plate."
    },
    {
      "metadata": {
        "trusted": true
      },
      "cell_type": "code",
      "source": "# Using 'random' module for filling plate wells at random and 'traceback' for printing exception stack trace\nimport random, traceback\n\ntry:\n    \n    # width of the plate or number of wells horizontally (change it if you like)\n    width = 5\n\n    # height of the plate or number of wells vertically (change it if you like)\n    height = 5\n\n    # creating plate as a list for storing rows of wells' values\n    plate = []\n\n    for row_index in range(height):\n\n        # list for storing well values (Empty or Full) for a row\n        row = []\n\n        for column_index in range(width):\n\n            # generate 0 or 1 at random\n            num = random.randint(0,1)\n            if(num == 0):\n                # Empty well is denoted by 'E'\n                status = 'E'\n            else:\n                # Full well is denoted by 'F'\n                status = 'F'\n\n            # Appending status of well (well's value) to the row\n            row.append(status)\n\n        # Appending row containing well values to the plate\n        plate.append(row)\n        \nexcept IndexError as ie:\n    print(type(ie).__name__ + ':', ie)\nexcept TypeError as te:\n    print(type(te).__name__ + ':', te)\nexcept NameError as ne:\n    print(type(ne).__name__ + ':', ne)\nexcept Exception as e:\n    traceback.print_exc()",
      "execution_count": 1,
      "outputs": []
    },
    {
      "metadata": {},
      "cell_type": "markdown",
      "source": "## Printing plate\n\nThe code below prints the current state of the plate with location indexes.\n\n**Assumptions:**\n- Well (1,1) is in the **top-left** corner.\n- X increases horizontally and Y increases vertically.\n- 'E' denotes Empty and 'F' denotes Full."
    },
    {
      "metadata": {
        "trusted": true
      },
      "cell_type": "code",
      "source": "print('Plate\\'s current state:\\n')\n\n# Hyphen line for separating plate rows\nhyphen_line = '—————————'\n\ntry:\n    \n    # print header row\n    print(' Y⬇ X➡\\t|', end = '')\n    for column_index in range(width):\n\n        # print column index\n        print('   ' + str(column_index + 1) + '\\t|', end = '')\n\n        # Extend separator hyphen line to suit plate width (number of columns)\n        hyphen_line += '————————'\n\n    # print row separator hyphen line\n    print('\\n' + hyphen_line)\n\n    # code to print each row in the plate\n    for row_index in range(height):\n\n        # print row index\n        print('  ', row_index + 1, '\\t|', end = '')\n\n        # print row's well values\n        for column_index in range(width): \n            print('   ' + plate[row_index][column_index] + '\\t|', end = '')\n\n        # print row separator hyphen line\n        print('\\n' + hyphen_line)\n\nexcept IndexError as ie:\n    print(type(ie).__name__ + ':', ie)\nexcept TypeError as te:\n    print(type(te).__name__ + ':', te)\nexcept NameError as ne:\n    print(type(ne).__name__ + ':', ne)\nexcept Exception as e:\n    traceback.print_exc()",
      "execution_count": 9,
      "outputs": [
        {
          "output_type": "stream",
          "text": "Plate's current state:\n\n Y⬇ X➡\t|   1\t|   2\t|   3\t|   4\t|   5\t|\n—————————————————————————————————————————————————\n   1 \t|   E\t|   F\t|   F\t|   E\t|   E\t|\n—————————————————————————————————————————————————\n   2 \t|   E\t|   F\t|   F\t|   F\t|   F\t|\n—————————————————————————————————————————————————\n   3 \t|   E\t|   E\t|   E\t|   F\t|   E\t|\n—————————————————————————————————————————————————\n   4 \t|   E\t|   E\t|   F\t|   E\t|   F\t|\n—————————————————————————————————————————————————\n   5 \t|   F\t|   F\t|   E\t|   E\t|   E\t|\n—————————————————————————————————————————————————\n",
          "name": "stdout"
        }
      ]
    },
    {
      "metadata": {},
      "cell_type": "markdown",
      "source": "## Accept commands from user\n\nThe following code allows user to enter the commands one by one until `END` command is received. Then it displays all the entered commands."
    },
    {
      "metadata": {
        "trusted": true
      },
      "cell_type": "code",
      "source": "# Import 'time' for sleep function and 're' for regular expressions match\nimport time, re\n\n\nhelp_string = '''\nTo work on the plate, please give intructions using the following commands (case-insensitive):\n\nPLACE X,Y\\t- To move the robotic arm to (X,Y) well on the plate.\nDETECT \\t\\t- To detect the well status directly under the arm.\nDROP \\t\\t- To place a drop of liquid into the well directly under the arm.\nMOVE N \\t\\t- To move the arm one well North. Use \"S\", \"E\" or \"W\" for South, East and West direction respectively.\nREPORT \\t\\t- To announce the location and status of the well directly under the arm.\nEND \\t\\t- To finish entering commands.\n\nEnter your commands one by one:'''\n\nprint(help_string)\n\n# Waiting 1 second\ntime.sleep(1)\n\n# Container for storing all commands\nall_commands = ''\n\n# Container for storing current command\ncommand = ''\n\ntry: \n    # Get commands from user until 'END' is received\n    while(command != 'END'):\n\n        # Get user input\n        command = input().strip().upper()\n        if(command != 'END'):\n\n            # Store entered command\n            all_commands += '\\n' + command\n\n    print('\\nYour input:')\n    print(all_commands)\n\nexcept Exception as e:\n    traceback.print_exc()",
      "execution_count": 53,
      "outputs": [
        {
          "output_type": "stream",
          "text": "\nTo work on the plate, please give intructions using the following commands (case-insensitive):\n\nPLACE X,Y\t- To move the robotic arm to (X,Y) well on the plate.\nDETECT \t\t- To detect the well status directly under the arm.\nDROP \t\t- To place a drop of liquid into the well directly under the arm.\nMOVE N \t\t- To move the arm one well North. Use \"S\", \"E\" or \"W\" for South, East and West direction respectively.\nREPORT \t\t- To announce the location and status of the well directly under the arm.\nEND \t\t- To finish entering commands.\n\nEnter your commands one by one:\ndrip\ndrop\n\nplace N\nmove 1,2\nPLaCe 2,3\nDETECT\nREPORT\nMOVE S\nMOVE E\nDETECT\nREPORT\nend\n\nYour input:\n\nDRIP\nDROP\n\nPLACE N\nMOVE 1,2\nPLACE 2,3\nDETECT\nREPORT\nMOVE S\nMOVE E\nDETECT\nREPORT\n",
          "name": "stdout"
        }
      ]
    },
    {
      "metadata": {},
      "cell_type": "markdown",
      "source": "## Evaluating user commands\n\nThe code below is a function that verifies a command to have the right format and right indexes - X,Y or alphabets - N,S,E,W."
    },
    {
      "metadata": {
        "trusted": true
      },
      "cell_type": "code",
      "source": "# Function to verify a command to have right format and right indexes/alphabets\ndef verify(command):\n    \n    # Setting regular expression patterns for all possible commands\n    place_pattern = re.compile(r'^PLACE (\\d+),(\\d+)$')\n    detect_pattern = re.compile(r'^DETECT$')\n    drop_pattern = re.compile(r'^DROP$')\n    move_pattern = re.compile(r'^MOVE ([NSEW])$')\n    report_pattern = re.compile(r'^REPORT$')\n    \n    # Check for PLACE command\n    if(place_pattern.match(command)):\n\n        # Get X, Y location\n        x_index = int(place_pattern.match(command).group(1))\n        y_index = int(place_pattern.match(command).group(2))\n\n        # Validate X, Y location\n        if(x_index >= 1 and x_index <= width and y_index >= 1 and y_index <= height):\n            return True\n        \n        # Return False for invalid PLACE command\n        else:            \n            return False \n\n    # Check for DETECT, DROP, MOVE or REPORT command\n    elif(detect_pattern.match(command) or drop_pattern.match(command) or move_pattern.match(command) or report_pattern.match(command)):\n        return True\n\n    # Return False for invalid command\n    else:\n        return False",
      "execution_count": 54,
      "outputs": []
    },
    {
      "metadata": {},
      "cell_type": "markdown",
      "source": "The code below verifies each command entered by user and saves the valid ones in a separate list."
    },
    {
      "metadata": {
        "trusted": true
      },
      "cell_type": "code",
      "source": "# Convert all commands entered to a list\ninput_commands = all_commands.strip().split('\\n')\n\n# Verified commands container (input commands that have right format and right indexes/alphabets)\nverified_commands = []\n\ntry:\n    \n    # Iterating over input commands to verify each command\n    for command in input_commands:\n\n        # Verifying if command is valid\n        is_valid = verify(command)\n\n        # Append to verified command list if command is valid\n        if(is_valid):\n            verified_commands.append(command)\n\n    print('Verified Commands:', verified_commands)\n\nexcept Exception as e:\n    traceback.print_exc()",
      "execution_count": 55,
      "outputs": [
        {
          "output_type": "stream",
          "text": "Verified Commands: ['DROP', 'PLACE 2,3', 'DETECT', 'REPORT', 'MOVE S', 'MOVE E', 'DETECT', 'REPORT']\n",
          "name": "stdout"
        }
      ]
    },
    {
      "metadata": {},
      "cell_type": "markdown",
      "source": "The code below discards all the verified commands until it finds the first verified PLACE command and saves the remaining commands in a new list."
    },
    {
      "metadata": {
        "trusted": true
      },
      "cell_type": "code",
      "source": "# Legal commands container (verified commands after discarding those commands that come before the first PLACE command)\nlegal_commands = []\n\n# Setting PLACE pattern\nplace_pattern = re.compile(r'^PLACE (\\d+),(\\d+)$')\n\ntry:\n\n    # Iterating over verified commands to discard those that come before the first PLACE command\n    for index in range(len(verified_commands)):\n\n        command = verified_commands[index]\n\n        # Check if command is a PLACE command\n        if(place_pattern.match(command)):\n\n            # Slice the verified commands list from here until the end and break the loop\n            legal_commands = verified_commands[index:]\n            break\n\n    print('Legal Commands:', legal_commands)\n\nexcept IndexError as ie:\n    print(type(ie).__name__ + ':', ie)\nexcept Exception as e:\n    traceback.print_exc()",
      "execution_count": 56,
      "outputs": [
        {
          "output_type": "stream",
          "text": "Legal Commands: ['PLACE 2,3', 'DETECT', 'REPORT', 'MOVE S', 'MOVE E', 'DETECT', 'REPORT']\n",
          "name": "stdout"
        }
      ]
    },
    {
      "metadata": {
        "trusted": true
      },
      "cell_type": "markdown",
      "source": "## Running commands\n\nThe code block below runs all the legal commands.\n\n**Assumptions:**\n- The robotic arm starts at **Top-Left** corner (X,Y) = (1,1) but doesn't know the status of the (1,1) well.\n- If the arm doesn't know the status of the well, it is represented as `None` value.\n- A DETECT command must be issued before a REPORT command to let the arm know the status of the well under it.\n- When the arm moves to a new well (using PLACE or MOVE command), it resets the arm's status value to None.\n- A DROP command fills an `EMPTY` well to the `FULL`. It doesn't have any effect on an already `FULL` well and gets discarded.\n- Any MOVE command that may result in arm overshooting the plate gets discarded.\n- A REPORT command prints the current arm properties - X, Y and status. It doesn't automatically detects well's status. It relies on DETECT command to find that."
    },
    {
      "metadata": {
        "trusted": true
      },
      "cell_type": "code",
      "source": "# Initialize robotic arm to (1,1) well in the top-left corner with status not known\narm = {'x': 1, 'y': 1, 'status': None}\n\n# Setting regular expression patterns for all possible commands\nplace_pattern = re.compile(r'^PLACE (\\d+),(\\d+)$')\ndetect_pattern = re.compile(r'^DETECT$')\ndrop_pattern = re.compile(r'^DROP$')\nmove_pattern = re.compile(r'^MOVE ([NSEW])$')\nreport_pattern = re.compile(r'^REPORT$')\n\ntry:\n    # Iterating over legal commands\n    for command in legal_commands:\n\n        if(place_pattern.match(command)):\n\n            # Setting arm to new location\n            arm['x'] = int(place_pattern.match(command).group(1))\n            arm['y'] = int(place_pattern.match(command).group(2))\n\n            # Setting status to None/Null because of new location\n            arm['status'] = None\n\n        elif(detect_pattern.match(command)):\n\n            # Getting well status at (X,Y) location\n            status = plate[arm['y'] - 1][arm['x'] - 1]\n\n            # Setting arm's status property based on status of the well\n            if(status == 'E'):\n                arm['status'] = 'EMPTY'\n            elif(status == 'F'):\n                arm['status'] = 'FULL'\n            else:\n                arm['status'] = 'ERR'\n\n        elif(drop_pattern.match(command)):\n\n            # Check if well is empty\n            if(plate[arm['y'] - 1][arm['x'] - 1] == 'E'):\n\n                # Filling well to Full\n                plate[arm['y'] - 1][arm['x'] - 1] = 'F'\n\n        elif(move_pattern.match(command)):\n\n            # Get direction N, S, E or W\n            direction = move_pattern.match(command).group(1)\n\n            # North\n            if(direction == 'N'):\n\n                # Arm should not be in the first row\n                if(arm['y'] >= 2):\n                    arm['y'] -= 1\n                    arm['status'] = None\n\n            # South\n            elif(direction == 'S'):\n\n                # Arm should not be in the last row\n                if(arm['y'] <= height - 1):\n                    arm['y'] += 1\n                    arm['status'] = None\n\n            # East\n            elif(direction == 'E'):\n\n                # Arm should not be in the right-most column\n                if(arm['x'] <= width - 1):\n                    arm['x'] += 1\n                    arm['status'] = None\n\n            # West\n            elif(direction == 'W'):\n\n                # Arm should not be in the left-most column\n                if(arm['x'] >= 2):\n                    arm['x'] -= 1\n                    arm['status'] = None\n\n            else:\n                raise Exception('Invalid MOVE command intercepted: ' + command)\n\n        elif(report_pattern.match(command)):\n\n            print('Output:',arm)\n\n        else:\n            raise Exception('Invalid command intercepted: ' + command)\nexcept IndexError as ie:\n    print(type(ie).__name__ + ':', ie)\nexcept Exception as e:\n    print(e)\n    traceback.print_exc()",
      "execution_count": 57,
      "outputs": [
        {
          "output_type": "stream",
          "text": "Output: {'x': 2, 'y': 3, 'status': 'EMPTY'}\nOutput: {'x': 3, 'y': 4, 'status': 'FULL'}\n",
          "name": "stdout"
        }
      ]
    },
    {
      "metadata": {
        "trusted": true
      },
      "cell_type": "code",
      "source": "",
      "execution_count": null,
      "outputs": []
    }
  ],
  "metadata": {
    "kernelspec": {
      "name": "python36",
      "display_name": "Python 3.6",
      "language": "python"
    },
    "language_info": {
      "mimetype": "text/x-python",
      "nbconvert_exporter": "python",
      "name": "python",
      "pygments_lexer": "ipython3",
      "version": "3.6.6",
      "file_extension": ".py",
      "codemirror_mode": {
        "version": 3,
        "name": "ipython"
      }
    }
  },
  "nbformat": 4,
  "nbformat_minor": 2
}